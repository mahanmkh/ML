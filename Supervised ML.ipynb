{
 "cells": [
  {
   "cell_type": "markdown",
   "id": "97cfc005",
   "metadata": {},
   "source": [
    "# Supervised Machine Learning on 2D Spectra (iris)\n",
    "\n",
    "This notebook involves classifying 2D specs by utilizing Convolutional Neural Network. The pipeline includes preparing the dataset, evaluating the model, and predicting an unlabeled dataset with the model. If you already have a dataset which is labeled, skip the notebook to 'model testing'. If you have an unlabeled dataset, skip to 'predicting unlabeled data'."
   ]
  },
  {
   "cell_type": "code",
   "execution_count": 7,
   "id": "89d1d79d",
   "metadata": {},
   "outputs": [],
   "source": [
    "import numpy as np\n",
    "import pickle\n",
    "import pandas as pd\n",
    "from tqdm import tqdm, tqdm_notebook\n",
    "import random\n",
    "import time\n",
    "from sklearn.manifold import TSNE\n",
    "from sklearn.decomposition import PCA\n",
    "import PIL\n",
    "from PIL import Image\n",
    "import re\n",
    "from sklearn.neighbors import NearestNeighbors\n",
    "import glob\n",
    "import matplotlib\n",
    "import matplotlib.pyplot as plt\n",
    "import plotly.io as pio\n",
    "import matplotlib.image as mpimg\n",
    "import io\n",
    "import base64\n",
    "import plotly.graph_objects as go\n",
    "import plotly.offline as pyo\n",
    "import plotly.graph_objs as go\n",
    "import plotly.express as px\n",
    "from IPython.display import display, HTML, clear_output\n",
    "import ipywidgets as widgets\n",
    "from ipywidgets import Output\n",
    "from hetdex_api.elixer_widget_cls import ElixerWidget as EW\n",
    "from IPython.display import Image as IPImage\n",
    "from tqdm.keras import TqdmCallback\n",
    "import tempfile\n",
    "import os\n",
    "os.environ['TF_CPP_MIN_LOG_LEVEL'] = '3'\n",
    "import warnings\n",
    "import tensorflow as tf\n",
    "from sklearn.model_selection import train_test_split\n",
    "import pickle\n",
    "from sklearn.metrics import confusion_matrix, precision_score, recall_score, f1_score\n",
    "from tensorflow.keras.models import load_model\n",
    "import seaborn as sns\n",
    "from sklearn.metrics import ConfusionMatrixDisplay\n",
    "from astropy.visualization import ZScaleInterval\n",
    "import os.path as op\n",
    "from hetdex_api.config import HDRconfig\n",
    "import tables\n",
    "from astropy.table import QTable, Table, Column\n",
    "warnings.filterwarnings(\"ignore\", message=\"Configuration file not found\")"
   ]
  },
  {
   "cell_type": "markdown",
   "id": "32cff33d",
   "metadata": {},
   "source": [
    "## Data preparation\n",
    "\n",
    "First, we load a machine learning catalog and a source catalog. The source catalog is filtered to select only the detections with certain flags. Then, we load a dataset containing normalized images (same process of making unsupervised ML arrays but without the flattening part), and assign labels to the images based on the detectid. All this information is then saved into a new pickle file.\n",
    "Then we load the prepared dataset, split it into a training set and a testing set. The model is trained on 75% of the whole dataset.\n"
   ]
  },
  {
   "cell_type": "code",
   "execution_count": null,
   "id": "c9b5dd8a",
   "metadata": {},
   "outputs": [],
   "source": [
    "version = '3.0.3'\n",
    "config = HDRconfig('hdr3')\n",
    "# Load the machine learning catalog\n",
    "mlfile = op.join( config.hdr_dir['hdr3'], 'catalogs','ml','detect_ml_3.0.3.h5')\n",
    "fileh = tables.open_file(mlfile, 'r')\n",
    "# Load the source catalog\n",
    "catfile = op.join(config.hdr_dir['hdr3'], 'catalogs', 'source_catalog_' + version + '.fits')\n",
    "detects_table = Table.read(catfile)\n",
    "\n",
    "# Filter the detections\n",
    "sel = ((detects_table['flag_best'] == 0) & (detects_table['flag_meteor'] == 1) & (detects_table['flag_largegal'] == 1))\n",
    "flag_best_zero_ids = set(detects_table['detectid'][sel]) \n",
    "# Load the normalized images from the pickle file\n",
    "with open('dataset.pickle', 'rb') as f:\n",
    "    images_normalized, image_filenames = pickle.load(f)\n",
    "# Label the files\n",
    "labels = [1] * len(image_filenames) \n",
    "for i, filename in tqdm(enumerate(image_filenames), total=len(image_filenames), desc=\"Assigning labels\"):\n",
    "    detect_id = int(filename.replace('.png', ''))\n",
    "    if detect_id in flag_best_zero_ids:\n",
    "        labels[i] = 0\n",
    "\n",
    "# Save the normalized images, filenames, and labels to a new pickle file\n",
    "with open('dataset_CNN.pickle', 'wb') as f:\n",
    "    pickle.dump((images_normalized, image_filenames, labels), f)\n",
    "    \n",
    "# Load the prepared dataset\n",
    "with open('dataset_CNN.pickle', 'rb') as f:\n",
    "    images_normalized, image_filenames, labels = pickle.load(f)\n",
    "\n",
    "# Split the dataset into training and testing sets\n",
    "images_normalized_train, images_normalized_test, filenames_train, filenames_test, labels_train, labels_test = train_test_split(\n",
    "    images_normalized, image_filenames, labels, test_size=0.25, random_state=42)\n",
    "with open('dataset_CNN_train.pickle', 'wb') as f:\n",
    "    pickle.dump((images_normalized_train, filenames_train, labels_train), f)\n",
    "with open('dataset_CNN_test.pickle', 'wb') as f:\n",
    "    pickle.dump((images_normalized_test, filenames_test, labels_test), f)"
   ]
  },
  {
   "cell_type": "markdown",
   "id": "788b3491",
   "metadata": {},
   "source": [
    "## Model Testing\n",
    "Next we start with loading the testing set and reshaping the input for the model. After loading the trained model, it predicts the labels of the testing set. It calculates the confusion matrix and several classification metrics and visualizes the confusion matrix. Based on the results, it classifies detections into TP (True Positive), FP (False Positive), TN (True Negative), and FN (False Negative). The classification results are then saved into a text file.\n"
   ]
  },
  {
   "cell_type": "code",
   "execution_count": 6,
   "id": "7fac825d",
   "metadata": {},
   "outputs": [
    {
     "name": "stdout",
     "output_type": "stream",
     "text": [
      "11603/11603 [==============================] - 111s 10ms/step\n",
      "Confusion matrix:\n",
      " [[ 25673  24343]\n",
      " [  1934 319327]]\n",
      "Precision:  0.9291675153490266\n",
      "Recall:  0.9939799726701966\n",
      "F1 score:  0.9604816138817411\n"
     ]
    },
    {
     "data": {
      "image/png": "[encoded data removed]",
      "text/plain": [
       "<Figure size 720x504 with 2 Axes>"
      ]
     },
     "metadata": {
      "needs_background": "light"
     },
     "output_type": "display_data"
    }
   ],
   "source": [
    "%matplotlib inline\n",
    "# Load the testing dataset and reshape images_normalized_test for the model\n",
    "with open('dataset_CNN_test.pickle', 'rb') as f:\n",
    "    images_normalized_test, filenames_test, labels_test = pickle.load(f)\n",
    "images_normalized_test = images_normalized_test.reshape(-1, 9, 100, 1)\n",
    "labels_array_test = np.array(labels_test)\n",
    "\n",
    "# Load the trained model\n",
    "model = load_model('iris.h5')\n",
    "\n",
    "# Predict the labels of the test set\n",
    "y_pred = model.predict(images_normalized_test)\n",
    "y_pred = np.round(y_pred).flatten()\n",
    "\n",
    "# Calculate the confusion matrix\n",
    "cm = confusion_matrix(labels_array_test, y_pred)\n",
    "precision = precision_score(labels_array_test, y_pred)\n",
    "recall = recall_score(labels_array_test, y_pred)\n",
    "f1 = f1_score(labels_array_test, y_pred)\n",
    "print('Confusion matrix:\\n', cm)\n",
    "print('Precision: ', precision)\n",
    "print('Recall: ', recall)\n",
    "print('F1 score: ', f1)\n",
    "\n",
    "# Plot the confusion matrix\n",
    "plt.figure(figsize=(10, 7))\n",
    "sns.heatmap(cm, annot=True, fmt='d', cmap='Blues')\n",
    "plt.title('Confusion Matrix')\n",
    "plt.ylabel('True Label')\n",
    "plt.xlabel('Predicted Label')\n",
    "plt.show()\n",
    "\n",
    "# Extract detect IDs from filenames_test\n",
    "detect_ids = [int(filename.replace('.png', '')) for filename in filenames_test]\n",
    "\n",
    "# Classify detections into TP, FP, TN, FN\n",
    "TP = [detect_ids[i] for i in range(len(labels_array_test)) if labels_array_test[i]==1 and y_pred[i]==1]\n",
    "FP = [detect_ids[i] for i in range(len(labels_array_test)) if labels_array_test[i]==0 and y_pred[i]==1]\n",
    "TN = [detect_ids[i] for i in range(len(labels_array_test)) if labels_array_test[i]==0 and y_pred[i]==0]\n",
    "FN = [detect_ids[i] for i in range(len(labels_array_test)) if labels_array_test[i]==1 and y_pred[i]==0]\n",
    "\n",
    "# Save the confusion matrix results\n",
    "with open('confusion_matrix_ids_final.txt', 'w') as f:\n",
    "    f.write(\"TP = \" + str(TP) + \"\\n\")\n",
    "    f.write(\"FP = \" + str(FP) + \"\\n\")\n",
    "    f.write(\"TN = \" + str(TN) + \"\\n\")\n",
    "    f.write(\"FN = \" + str(FN) + \"\\n\")\n"
   ]
  },
  {
   "cell_type": "markdown",
   "id": "54cd8ee0",
   "metadata": {},
   "source": [
    "## Predicting Unlabeled Data\n",
    "Finally, we can load an the unlabeled dataset for the model. The trained model is then used to predict the labels. The predicted labels are rounded off and converted to integer type. They are also converted from numerical form to 'good' or 'junk'. A dataframe of filenames and predicted labels is then created, which is saved as a csv file."
   ]
  },
  {
   "cell_type": "code",
   "execution_count": 13,
   "id": "29de17be",
   "metadata": {},
   "outputs": [
    {
     "name": "stdout",
     "output_type": "stream",
     "text": [
      "625/625 [==============================] - 6s 10ms/step\n",
      "             Filename Predicted Label\n",
      "0      3000000106.png            good\n",
      "1      3000000133.png            good\n",
      "2      3000000134.png            good\n",
      "3      3000000154.png            good\n",
      "4      3000000240.png            junk\n",
      "...               ...             ...\n",
      "19995  3000602019.png            good\n",
      "19996  3000602020.png            good\n",
      "19997  3000602137.png            good\n",
      "19998  3000602141.png            good\n",
      "19999  3000602144.png            good\n",
      "\n",
      "[20000 rows x 2 columns]\n"
     ]
    }
   ],
   "source": [
    "#load the unlabeled dataset\n",
    "with open('unlabeled.pickle', 'rb') as f:\n",
    "    images_normalized, image_filenames = pickle.load(f)\n",
    "\n",
    "# Reshape images_normalized for the model\n",
    "images_normalized = images_normalized.reshape(-1, 9, 100, 1)\n",
    "# Load the trained model\n",
    "model = tf.keras.models.load_model('iris.h5')\n",
    "# Use the trained model to predict labels of the unlabeled dataset\n",
    "predictions = model.predict(images_normalized)\n",
    "\n",
    "# Round off the predictions and convert them to integer type\n",
    "predicted_labels = np.round(predictions).astype(int)\n",
    "\n",
    "# Create a dataframe of filenames and predicted labels\n",
    "df_predictions = pd.DataFrame({\n",
    "    'Filename': image_filenames,\n",
    "    'Predicted Label': predicted_labels.flatten()\n",
    "})\n",
    "\n",
    "# Convert numerical labels to 'good' or 'junk'\n",
    "df_predictions['Predicted Label'] = df_predictions['Predicted Label'].apply(lambda x: 'good' if x == 1 else 'junk')\n",
    "\n",
    "# Save the predictions to a csv file\n",
    "df_predictions.to_csv('predictions.csv', index=False)\n",
    "df = pd.read_csv('predictions.csv')\n",
    "print(df)"
   ]
  },
  {
   "cell_type": "markdown",
   "id": "ad3c140d",
   "metadata": {},
   "source": [
    "#### please don't hesitate to message me on Slack for any questions @Mahan Mirza Khanlari"
   ]
  }
 ],
 "metadata": {
  "kernelspec": {
   "display_name": "Python 3 (ipykernel)",
   "language": "python",
   "name": "python3"
  },
  "language_info": {
   "codemirror_mode": {
    "name": "ipython",
    "version": 3
   },
   "file_extension": ".py",
   "mimetype": "text/x-python",
   "name": "python",
   "nbconvert_exporter": "python",
   "pygments_lexer": "ipython3",
   "version": "3.10.5"
  }
 },
 "nbformat": 4,
 "nbformat_minor": 5
}
