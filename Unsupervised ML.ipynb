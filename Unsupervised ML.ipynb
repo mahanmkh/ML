{
 "cells": [
  {
   "cell_type": "markdown",
   "id": "c3c3d2a8",
   "metadata": {},
   "source": [
    "# Unsupervised Machine Learning on 2D Spectra\n",
    "This notebook shows an unsupervised machine learning approach to understanding 2D spectra. The objective here is not to classify or predict specific outcomes, but to explore patterns, relationships, and structures within the dataset using techniques such as dimensionality reduction and clustering.In the process, this notebook demonstrates the use of Principal Component Analysis (PCA) and t-Distributed Stochastic Neighbor Embedding (t-SNE)."
   ]
  },
  {
   "cell_type": "code",
   "execution_count": 8,
   "id": "c97b793b",
   "metadata": {},
   "outputs": [],
   "source": [
    "import numpy as np\n",
    "import pickle\n",
    "import pandas as pd\n",
    "from tqdm import tqdm, tqdm_notebook\n",
    "import random\n",
    "import time\n",
    "from sklearn.manifold import TSNE\n",
    "from sklearn.decomposition import PCA\n",
    "from sklearn.decomposition import IncrementalPCA\n",
    "import PIL\n",
    "from PIL import Image\n",
    "import re\n",
    "from sklearn.neighbors import NearestNeighbors\n",
    "import glob\n",
    "import matplotlib\n",
    "import matplotlib.pyplot as plt\n",
    "import plotly.io as pio\n",
    "import matplotlib.image as mpimg\n",
    "import io\n",
    "import base64\n",
    "import plotly.graph_objects as go\n",
    "import plotly.offline as pyo\n",
    "import plotly.graph_objs as go\n",
    "import plotly.express as px\n",
    "from IPython.display import display, HTML, clear_output\n",
    "import ipywidgets as widgets\n",
    "from ipywidgets import Output\n",
    "from hetdex_api.elixer_widget_cls import ElixerWidget as EW\n",
    "from IPython.display import Image as IPImage\n",
    "from tqdm.keras import TqdmCallback\n",
    "import tempfile\n",
    "import os\n",
    "os.environ['TF_CPP_MIN_LOG_LEVEL'] = '3'\n",
    "import warnings\n",
    "import tensorflow as tf\n",
    "from sklearn.model_selection import train_test_split\n",
    "import pickle\n",
    "from sklearn.metrics import confusion_matrix, precision_score, recall_score, f1_score\n",
    "from tensorflow.keras.models import load_model\n",
    "import seaborn as sns\n",
    "from sklearn.metrics import ConfusionMatrixDisplay\n",
    "from astropy.visualization import ZScaleInterval\n",
    "import os.path as op\n",
    "from hetdex_api.config import HDRconfig\n",
    "import tables\n",
    "from astropy.table import QTable, Table, Column\n",
    "import dask.array as da\n",
    "from dask.distributed import Client\n",
    "from sklearn.decomposition import IncrementalPCA\n",
    "warnings.filterwarnings(\"ignore\", message=\"Configuration file not found\")"
   ]
  },
  {
   "cell_type": "markdown",
   "id": "be8870bd",
   "metadata": {},
   "source": [
    "## Prepare Data\n",
    "First, we load a machine learning catalog and a source catalog. The source catalog is filtered to select only the detections with certain flags. "
   ]
  },
  {
   "cell_type": "code",
   "execution_count": 35,
   "id": "73b0059a",
   "metadata": {},
   "outputs": [
    {
     "name": "stdout",
     "output_type": "stream",
     "text": [
      "Number of objects: 1228487\n"
     ]
    }
   ],
   "source": [
    "version = '3.0.3'\n",
    "config = HDRconfig('hdr3')\n",
    "\n",
    "# Setup the machine learning file \n",
    "mlfile = op.join( config.hdr_dir['hdr3'], 'catalogs','ml','detect_ml_3.0.3.h5')\n",
    "fileh = tables.open_file(mlfile, 'r')\n",
    "\n",
    "# Set the catalog file \n",
    "catfile = op.join(config.hdr_dir['hdr3'], 'catalogs', 'source_catalog_' + version + '.fits')\n",
    "detects_table = Table.read(catfile)\n",
    "\n",
    "# Filter out detections \n",
    "sel = (detects_table['z_hetdex'] > 1.88)\n",
    "detect_list = detects_table['detectid'][sel] \n",
    "print('Number of objects: '+str(len(detect_list)))"
   ]
  },
  {
   "cell_type": "markdown",
   "id": "a284b6d9",
   "metadata": {},
   "source": [
    "## Image Processing\n",
    "Then we perform image processing. First, a batch size and the total number of detections are defined. Images are processed in batches. The 'wave' and 'im_sum' values are retrieved, stacked into an array, and normalized. The normalized arrays is then converted to an image and stored in the images list. The process continues until the desired number of images has been processed. Finally, the arrays are flattened and saved into a pickle file along with their filenames. You might notice that there is some redundancy in the loop but this helped me better understand what is happening to the data."
   ]
  },
  {
   "cell_type": "code",
   "execution_count": 29,
   "id": "fbf72eb2",
   "metadata": {},
   "outputs": [
    {
     "name": "stderr",
     "output_type": "stream",
     "text": [
      "Processing detects:   1%|          | 1011/100000 [00:01<02:28, 666.94it/s]\n"
     ]
    }
   ],
   "source": [
    "batch_size = 100000\n",
    "total_detects = len(detect_list)\n",
    "\n",
    "# Initialize counter for the images and image containers\n",
    "counter = 0\n",
    "num_images = 1000\n",
    "image_filenames = []\n",
    "images = [] \n",
    "count = 0\n",
    "\n",
    "# Loop through the batches of detects\n",
    "for batch_start in range(0, total_detects, batch_size):\n",
    "    batch_detects = detect_list[batch_start:batch_start + batch_size]\n",
    "    \n",
    "    # Loop through detects within the batch\n",
    "    for d in tqdm(batch_detects, desc=\"Processing detects\"):\n",
    "        try:\n",
    "            # Read the object data from the FiberImages table\n",
    "            obj_data = fileh.root.FiberImages.read_where('detectid == d')[0]\n",
    "        except IndexError:\n",
    "            # Skip this iteration if the detectid is not found in the FiberImages table\n",
    "            continue\n",
    "\n",
    "        # Retrieve object data\n",
    "        detectid = obj_data['detectid']\n",
    "        wave = obj_data['im_wave']\n",
    "        im_sum = obj_data['im_sum']\n",
    "\n",
    "        # Create an array and normalize it\n",
    "        arr = np.vstack((wave, im_sum))\n",
    "        arr=arr[1:]\n",
    "        arr = arr - np.min(arr) \n",
    "        arr = arr / np.max(arr)  \n",
    "        arr = arr * 255 \n",
    "        \n",
    "        # Convert the array to an image and store it in the images list\n",
    "        img = Image.fromarray(arr.astype(np.uint8)).convert('L')\n",
    "        img_arr = np.asarray(img)\n",
    "        \n",
    "        # Break the loop if the number of images reached the desired number\n",
    "        if count >= num_images:\n",
    "            break\n",
    "        \n",
    "        # Store the image filename\n",
    "        image_filenames.append(str(detectid) + '.png')\n",
    "\n",
    "        # Add the image to the list\n",
    "        images.append(img_arr)\n",
    "        count += 1\n",
    "\n",
    "    # Break the loop if the number of images reached the desired number\n",
    "    if count >= num_images:\n",
    "        break\n",
    "\n",
    "# Normalize the images and flatten them\n",
    "images = np.array(images)\n",
    "images_normalized = images.astype(np.float32) / 255.0\n",
    "flattenend_images = np.array([i.flatten() for i in images_normalized])\n",
    "\n",
    "# Save the flattened images and their filenames into a pickle file\n",
    "with open('test.pickle', 'wb') as f:\n",
    "    pickle.dump((flattenend_images, image_filenames), f)\n"
   ]
  },
  {
   "cell_type": "markdown",
   "id": "3afbd051",
   "metadata": {},
   "source": [
    "## PCA Fitting\n",
    "\n",
    "Then by using a PCA fit to the flattened arrays, we calculate the cumulative explained variance. This step is only helpful if you think the number of components in your input is very large and you would be okay to lose a few percent of your input info in trade of faster computation.\n"
   ]
  },
  {
   "cell_type": "code",
   "execution_count": 6,
   "id": "2d092894",
   "metadata": {},
   "outputs": [
    {
     "data": {
      "image/png": "[encoded data removed]",
      "text/plain": [
       "<Figure size 576x432 with 1 Axes>"
      ]
     },
     "metadata": {
      "needs_background": "light"
     },
     "output_type": "display_data"
    }
   ],
   "source": [
    "%matplotlib inline\n",
    "\n",
    "# Load the flattened images and their filenames from the pickle file\n",
    "with open('test.pickle', 'rb') as f:\n",
    "    flattenend_images, image_filenames = pickle.load(f)\n",
    "\n",
    "# Perform PCA\n",
    "pca = PCA()\n",
    "pca.fit(flattenend_images)\n",
    "\n",
    "# Calculate cumulative explained variance\n",
    "explained_variance = np.cumsum(pca.explained_variance_ratio_)\n",
    "\n",
    "# Plot the cumulative explained variance\n",
    "plt.figure(figsize=(8,6))\n",
    "plt.plot(range(1, len(explained_variance) + 1), explained_variance)\n",
    "plt.xlabel('Number of Components')\n",
    "plt.ylabel('Cumulative Explained Variance')\n",
    "plt.grid(True)\n",
    "plt.show()"
   ]
  },
  {
   "cell_type": "markdown",
   "id": "3eb921f6",
   "metadata": {},
   "source": [
    "## t-SNE & Dimension Reduction \n",
    "Now that we know how many components we want to use, we can proceed to feed the input into t-SNE. A dask array is created from the flattened images and divided into chunks. Incremental PCA is performed on each chunk of the dask array, and the results are stored in the reduced_images array. Then, t-SNE is performed on the PCA-transformed images. The t-SNE results are saved into a pickle file. But again, if you think you can use all of your components without running to memory issues, you can ignore the PCA part of the code and just feed your input into t-SNE directly."
   ]
  },
  {
   "cell_type": "code",
   "execution_count": 10,
   "id": "e385ed5a",
   "metadata": {},
   "outputs": [
    {
     "name": "stdout",
     "output_type": "stream",
     "text": [
      "[t-SNE] Computing 91 nearest neighbors...\n",
      "[t-SNE] Indexed 1000 samples in 0.001s...\n",
      "[t-SNE] Computed neighbors for 1000 samples in 0.365s...\n",
      "[t-SNE] Computed conditional probabilities for sample 1000 / 1000\n",
      "[t-SNE] Mean sigma: 1.176599\n",
      "[t-SNE] KL divergence after 250 iterations with early exaggeration: 134.150314\n",
      "[t-SNE] KL divergence after 1000 iterations: 2.041530\n",
      "t-SNE done! Time elapsed: 11.951682806015015 seconds\n",
      "Number of data points in the plot: 1000\n"
     ]
    }
   ],
   "source": [
    "# Setup the dask client\n",
    "client = Client()\n",
    "\n",
    "# Load the flattened images and their filenames from the pickle file\n",
    "with open('test.pickle', 'rb') as f:\n",
    "    flattenend_images, image_filenames = pickle.load(f)\n",
    "\n",
    "# Create a dask array from the flattened images\n",
    "dask_images = da.from_array(flattenend_images, chunks=(20000, -1))\n",
    "\n",
    "# Specify the number of components for PCA\n",
    "n_components_pca = 750\n",
    "ipca = IncrementalPCA(n_components=n_components_pca)\n",
    "# Initialize an empty array to store the PCA-transformed images\n",
    "reduced_images = np.empty((0, n_components_pca))\n",
    "\n",
    "# Loop through chunks of the dask array\n",
    "for chunk in dask_images.to_delayed().flatten():\n",
    "    chunk_np = chunk.compute()\n",
    "\n",
    "    # Perform PCA on the chunk and add it to the reduced_images array\n",
    "    reduced_chunk = ipca.partial_fit(chunk_np).transform(chunk_np)\n",
    "    reduced_images = np.vstack([reduced_images, reduced_chunk])\n",
    "\n",
    "# Perform t-SNE on the PCA-transformed images\n",
    "time_start = time.time()\n",
    "n_components = 2\n",
    "verbose = 1\n",
    "perplexity = 30\n",
    "n_iter = 1000\n",
    "metric = 'euclidean'\n",
    "tsne_results = TSNE(n_components=n_components,\n",
    "                    verbose=verbose,\n",
    "                    perplexity=perplexity,\n",
    "                    n_iter=n_iter,\n",
    "                    metric=metric).fit_transform(reduced_images)\n",
    "print('t-SNE done! Time elapsed: {} seconds'.format(time.time() - time_start))\n",
    "print(f\"Number of data points in the plot: {len(tsne_results)}\")\n",
    "\n",
    "# Save the t-SNE results and image filenames into a pickle file\n",
    "with open('test_tsne.pickle', 'wb') as f:\n",
    "    pickle.dump((tsne_results, image_filenames), f)\n",
    "\n",
    "client.close()"
   ]
  },
  {
   "cell_type": "markdown",
   "id": "570e7323",
   "metadata": {},
   "source": [
    "## Plotting\n",
    "Lastly, t-SNE results and image filenames are loaded from a pickle file and a scatter plot is created. An event handler for click events is set up to display information about the data points if needed, and an event handler for box selection events is set up to print out the detect IDs of the selected points."
   ]
  },
  {
   "cell_type": "code",
   "execution_count": 11,
   "id": "9a3e4261",
   "metadata": {},
   "outputs": [
    {
     "data": {
      "application/vnd.jupyter.widget-view+json": {
       "model_id": "d3ce986edfff46d3825ba1120822a71b",
       "version_major": 2,
       "version_minor": 0
      },
      "text/plain": [
       "FigureWidget({\n",
       "    'data': [{'customdata': array([3000000068, 3000000090, 3000000106, ..., 3000053895, 3000053900,\n",
       "                                   3000053912]),\n",
       "              'hovertemplate': '<b>Detect ID:</b> %{customdata}<br>',\n",
       "              'legendgroup': '',\n",
       "              'marker': {'color': 'darkolivegreen', 'size': 1.5, 'symbol': 'circle'},\n",
       "              'mode': 'markers',\n",
       "              'name': '',\n",
       "              'orientation': 'v',\n",
       "              'showlegend': False,\n",
       "              'type': 'scatter',\n",
       "              'uid': 'cf615640-8c9f-48fc-89d2-e2fbca7ccca1',\n",
       "              'x': array([4.995884 , 5.378403 , 1.3624442, ..., 2.1026967, 1.6525702, 5.328346 ],\n",
       "                         dtype=float32),\n",
       "              'xaxis': 'x',\n",
       "              'y': array([ 6.3002796 ,  5.407083  , -0.6478657 , ...,  0.53144884,  0.68824524,\n",
       "                           4.5484824 ], dtype=float32),\n",
       "              'yaxis': 'y'}],\n",
       "    'layout': {'height': 700,\n",
       "               'legend': {'tracegroupgap': 0},\n",
       "               'margin': {'t': 60},\n",
       "               'template': '...',\n",
       "               'width': 700,\n",
       "               'xaxis': {'anchor': 'y', 'domain': [0.0, 1.0], 'title': {'text': 'tsne_0'}},\n",
       "               'yaxis': {'anchor': 'x', 'domain': [0.0, 1.0], 'title': {'text': 'tsne_1'}}}\n",
       "})"
      ]
     },
     "metadata": {},
     "output_type": "display_data"
    },
    {
     "data": {
      "application/vnd.jupyter.widget-view+json": {
       "model_id": "f46e619ec20d4dd098e8bbd1cfa38d8a",
       "version_major": 2,
       "version_minor": 0
      },
      "text/plain": [
       "Output(layout=Layout(height='1000px', width='100%'))"
      ]
     },
     "metadata": {},
     "output_type": "display_data"
    }
   ],
   "source": [
    "# Load the t-SNE results and image filenames from the pickle file\n",
    "with open('test_tsne.pickle', 'rb') as f:\n",
    "    tsne_results, image_filenames = pickle.load(f)\n",
    "\n",
    "# Create a DataFrame from the t-SNE results and image filenames\n",
    "data = {'tsne_0': tsne_results[:, 0], 'tsne_1': tsne_results[:, 1], 'detectid': image_filenames}\n",
    "df = pd.DataFrame(data)\n",
    "\n",
    "# Convert the filenames to detectid values\n",
    "detectid_values = [int(filename.split('/')[-1].split('.')[0]) for filename in image_filenames]\n",
    "df['detectid_values'] = detectid_values\n",
    "\n",
    "# Create a scatter plot of the t-SNE results\n",
    "fig = px.scatter(df, x=\"tsne_0\", y=\"tsne_1\")\n",
    "fig.update_traces(\n",
    "    marker=dict(size=1.5, color='darkolivegreen'),\n",
    "    hovertemplate=\"<b>Detect ID:</b> %{customdata}<br>\",\n",
    ")\n",
    "output_widget = widgets.Output(layout=widgets.Layout(height='1000px', width=\"100%\"))\n",
    "fig.update_layout(width=700, height=700)\n",
    "\n",
    "# Define click and selection event handlers\n",
    "def on_click(trace, points, state):\n",
    "    point_index = points.point_inds[0]\n",
    "    custom_data = trace.customdata[point_index]\n",
    "    image_id = custom_data\n",
    "    with output_widget:\n",
    "        clear_output()\n",
    "        display(EW(detectlist=[int(image_id)]))\n",
    "def on_box_selection(trace, points, selector):\n",
    "    selected_points = points.point_inds\n",
    "    selected_data = trace.customdata[selected_points]\n",
    "    detect_ids = [int(customdata) for customdata in selected_data]\n",
    "    print(\"Selected detect IDs:\", detect_ids)\n",
    "\n",
    "# Create a FigureWidget from the figure and attach the event handlers\n",
    "fig_widget = go.FigureWidget(fig)\n",
    "fig_widget.data[0].on_click(on_click)\n",
    "fig_widget.data[0].on_selection(on_box_selection)\n",
    "fig_widget.data[0].customdata = df[\"detectid_values\"]\n",
    "\n",
    "# Display the FigureWidget and the output widget\n",
    "display(fig_widget)\n",
    "display(output_widget)\n"
   ]
  },
  {
   "cell_type": "markdown",
   "id": "c8817969",
   "metadata": {},
   "source": [
    "#### please don't hesitate to message me on Slack for any questions @Mahan Mirza Khanlari"
   ]
  }
 ],
 "metadata": {
  "kernelspec": {
   "display_name": "Python 3 (ipykernel)",
   "language": "python",
   "name": "python3"
  },
  "language_info": {
   "codemirror_mode": {
    "name": "ipython",
    "version": 3
   },
   "file_extension": ".py",
   "mimetype": "text/x-python",
   "name": "python",
   "nbconvert_exporter": "python",
   "pygments_lexer": "ipython3",
   "version": "3.10.5"
  }
 },
 "nbformat": 4,
 "nbformat_minor": 5
}
